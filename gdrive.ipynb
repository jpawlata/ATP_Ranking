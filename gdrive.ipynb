{
 "cells": [
  {
   "cell_type": "markdown",
   "id": "22f4d08f",
   "metadata": {},
   "source": [
    "# Mount Google Drive to Google Colab"
   ]
  },
  {
   "cell_type": "code",
   "execution_count": null,
   "id": "191e524b",
   "metadata": {},
   "outputs": [],
   "source": [
    "import os\n",
    "from google.colab import drive"
   ]
  },
  {
   "cell_type": "code",
   "execution_count": null,
   "id": "444dba38",
   "metadata": {},
   "outputs": [],
   "source": [
    "# check the current path\n",
    "os.getcwd()"
   ]
  },
  {
   "cell_type": "code",
   "execution_count": null,
   "id": "90399693",
   "metadata": {},
   "outputs": [],
   "source": [
    "# mount colab drive\n",
    "drive.mount('/gdrive')"
   ]
  },
  {
   "cell_type": "code",
   "execution_count": null,
   "id": "bd86949b",
   "metadata": {},
   "outputs": [],
   "source": [
    "# change the working directory\n",
    "os.chdir('/gdrive/My Drive/YOUR-FOLDER')"
   ]
  },
  {
   "cell_type": "code",
   "execution_count": null,
   "id": "7e2c38fd",
   "metadata": {},
   "outputs": [],
   "source": [
    "# check the current path\n",
    "os.getcwd()"
   ]
  },
  {
   "cell_type": "code",
   "execution_count": null,
   "id": "94825227",
   "metadata": {},
   "outputs": [],
   "source": [
    "# check the folder\n",
    "os.listdir()"
   ]
  }
 ],
 "metadata": {
  "kernelspec": {
   "display_name": "Python 3",
   "language": "python",
   "name": "python3"
  },
  "language_info": {
   "codemirror_mode": {
    "name": "ipython",
    "version": 3
   },
   "file_extension": ".py",
   "mimetype": "text/x-python",
   "name": "python",
   "nbconvert_exporter": "python",
   "pygments_lexer": "ipython3",
   "version": "3.8.11"
  }
 },
 "nbformat": 4,
 "nbformat_minor": 5
}
