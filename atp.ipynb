{
 "cells": [
  {
   "cell_type": "code",
   "execution_count": 4,
   "id": "817189bd",
   "metadata": {},
   "outputs": [],
   "source": [
    "# Import packages\n",
    "import os\n",
    "import pandas as pd\n",
    "import numpy as np\n",
    "import bs4 as bs\n",
    "import urllib.request\n",
    "#from google.colab import drive\n",
    "from datetime import datetime"
   ]
  },
  {
   "cell_type": "code",
   "execution_count": null,
   "id": "9f8e2b21",
   "metadata": {},
   "outputs": [],
   "source": [
    "def atp_web_scr(soup: object, urls: dict, headers: dict) -> list:\n",
    "  \"\"\"\n",
    "  Summary: Read each link and create table with scrapped data\n",
    "\n",
    "  Parameters: object (web source), dict (key: date, item: url), dict (headers)\n",
    "  Return: list\n",
    "  \"\"\"\n",
    "\n",
    "  try:\n",
    "    atp_data = [[] for i in range(len(urls) * 5000)]\n",
    "  except:\n",
    "    print(\"No data\")\n",
    "    return None\n",
    "\n",
    "  atp_data[0].append('Date')\n",
    "\n",
    "  try:\n",
    "    for column in soup.find(\"table\", {\"class\" : \"mega-table\"}).findAll('th'):\n",
    "      atp_data[0].append(column.get_text().strip()) # Head row (0)\n",
    "  except:\n",
    "    print(\"No header row\")\n",
    "    return None\n",
    "\n",
    "  row = 1\n",
    "  for key, value in urls.items():\n",
    "    try: \n",
    "      request=urllib.request.Request(url = value, headers = headers) \n",
    "      response = urllib.request.urlopen(request) \n",
    "      data = response.read() # data\n",
    "      soup = bs.BeautifulSoup(data,'lxml')\n",
    "    except ConnectionResetError:\n",
    "      print(\"Connection Reset Error\")\n",
    "      break\n",
    "    except:\n",
    "      break\n",
    "   \n",
    "\n",
    "    # print(\"Check date:\", key)\n",
    "    for table_row in soup.find(\"table\", {\"class\" : \"mega-table\"}).findAll('tr'):\n",
    "      if table_row.findAll('td'):\n",
    "        column_num = 0      \n",
    "        atp_data[row].append(key)\n",
    "        table_columns = table_row.find_all('td')\n",
    "\n",
    "        for column in table_columns:\n",
    "          atp_data[row].append(column.get_text().strip())\n",
    "          if column_num == 1:\n",
    "            if column.find('div', {'class' : 'move-up'}):\n",
    "              atp_data[row][2] = \"+\" + column.get_text().strip()\n",
    "            elif column.find('div', {'class' : 'move-down'}):\n",
    "              atp_data[row][2] = \"-\" + column.get_text().strip()\n",
    "            else: atp_data[row][2] = np.NaN\n",
    "          if column_num == 2: \n",
    "            atp_data[row][3] = column.find('img')['alt']\n",
    "          \n",
    "          column_num += 1      \n",
    "        row += 1\n",
    "  return atp_data"
   ]
  },
  {
   "cell_type": "code",
   "execution_count": null,
   "id": "c12f5c61",
   "metadata": {},
   "outputs": [],
   "source": [
    "def get_dates(soup: object) -> dict:\n",
    "  \"\"\"\n",
    "  Summary: Check dates and create dict (key: date, item: url)\n",
    "\n",
    "  Parameters: object (web source)\n",
    "  Return: dict (key: date, item: url)\n",
    "  \"\"\"\n",
    "  try:\n",
    "    dates = soup.find(\"ul\", {\"data-value\" : \"rankDate\"}).findAll('li')\n",
    "    urls = {datetime.strptime(i.get_text().strip(), '%Y.%m.%d').strftime('%Y-%m-%d') : \n",
    "        ('https://www.atptour.com/en/rankings/singles?rankDate=' + datetime.strptime(i.get_text().strip(), '%Y.%m.%d').strftime('%Y-%m-%d') + '&rankRange=1-5000') for i in dates}\n",
    "  except:\n",
    "    print(\"Error while scraping dates\")\n",
    "    return None\n",
    "\n",
    "\n",
    "  return urls"
   ]
  },
  {
   "cell_type": "code",
   "execution_count": null,
   "id": "2738d04d",
   "metadata": {},
   "outputs": [],
   "source": [
    "# Website into raw html format\n",
    "\n",
    "agent = 'Mozilla/5.0 (X11; Linux x86_64) AppleWebKit/537.36 (KHTML, like Gecko) Chrome/91.0.4472.114 Safari/537.36'\n",
    "headers={'User-Agent': agent} \n",
    "url = 'https://www.atptour.com/en/rankings/singles'\n",
    "\n",
    "try:\n",
    "  request=urllib.request.Request(url = url, headers = headers) \n",
    "  response = urllib.request.urlopen(request)\n",
    "  data = response.read() \n",
    "  soup = bs.BeautifulSoup(data,'lxml')\n",
    "except:\n",
    "  print(\"No connection\")\n",
    "\n",
    "urls = get_dates(soup)\n",
    "data_atp = atp_web_scr(soup, urls, headers)"
   ]
  },
  {
   "cell_type": "markdown",
   "id": "85c1781a",
   "metadata": {},
   "source": [
    "### Create a Data Frame & Export to CSV"
   ]
  },
  {
   "cell_type": "code",
   "execution_count": null,
   "id": "c203d91c",
   "metadata": {},
   "outputs": [],
   "source": [
    "df = pd.DataFrame(data_atp)\n",
    "df.dropna(how = 'all', inplace = True) # drop empty rows\n",
    "df.rename(columns = df.iloc[0], inplace = True) # first row as a columns' titles\n",
    "df.drop([0], inplace = True) # drop first row"
   ]
  },
  {
   "cell_type": "code",
   "execution_count": null,
   "id": "ded7f24e",
   "metadata": {},
   "outputs": [],
   "source": [
    "# Remove comma from the 'Points' and 'Points Dropping' columns\n",
    "df.Points = df.Points.str.replace(',', '')\n",
    "df['Points Dropping'] = df['Points Dropping'].str.replace(',', '')"
   ]
  },
  {
   "cell_type": "code",
   "execution_count": null,
   "id": "7af2503f",
   "metadata": {},
   "outputs": [],
   "source": [
    "# Export df to CSV\n",
    "df.to_csv(\"data/atp_ranking.csv\", index = False)\n",
    "print(\"Done\")"
   ]
  }
 ],
 "metadata": {
  "kernelspec": {
   "display_name": "Python 3",
   "language": "python",
   "name": "python3"
  },
  "language_info": {
   "codemirror_mode": {
    "name": "ipython",
    "version": 3
   },
   "file_extension": ".py",
   "mimetype": "text/x-python",
   "name": "python",
   "nbconvert_exporter": "python",
   "pygments_lexer": "ipython3",
   "version": "3.8.11"
  }
 },
 "nbformat": 4,
 "nbformat_minor": 5
}
